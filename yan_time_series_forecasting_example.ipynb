{
 "cells": [
  {
   "cell_type": "markdown",
   "id": "85f5df31",
   "metadata": {},
   "source": [
    "# nasdaq 100 etf QQQ price prediction"
   ]
  },
  {
   "cell_type": "markdown",
   "id": "3ba99338",
   "metadata": {},
   "source": [
    "### load the libary"
   ]
  },
  {
   "cell_type": "code",
   "execution_count": 1,
   "id": "fc932135",
   "metadata": {},
   "outputs": [
    {
     "name": "stderr",
     "output_type": "stream",
     "text": [
      "Using TensorFlow backend.\n",
      "/usr/local/lib/python3.7/dist-packages/tensorflow/python/framework/dtypes.py:516: FutureWarning: Passing (type, 1) or '1type' as a synonym of type is deprecated; in a future version of numpy, it will be understood as (type, (1,)) / '(1,)type'.\n",
      "  _np_qint8 = np.dtype([(\"qint8\", np.int8, 1)])\n",
      "/usr/local/lib/python3.7/dist-packages/tensorflow/python/framework/dtypes.py:517: FutureWarning: Passing (type, 1) or '1type' as a synonym of type is deprecated; in a future version of numpy, it will be understood as (type, (1,)) / '(1,)type'.\n",
      "  _np_quint8 = np.dtype([(\"quint8\", np.uint8, 1)])\n",
      "/usr/local/lib/python3.7/dist-packages/tensorflow/python/framework/dtypes.py:518: FutureWarning: Passing (type, 1) or '1type' as a synonym of type is deprecated; in a future version of numpy, it will be understood as (type, (1,)) / '(1,)type'.\n",
      "  _np_qint16 = np.dtype([(\"qint16\", np.int16, 1)])\n",
      "/usr/local/lib/python3.7/dist-packages/tensorflow/python/framework/dtypes.py:519: FutureWarning: Passing (type, 1) or '1type' as a synonym of type is deprecated; in a future version of numpy, it will be understood as (type, (1,)) / '(1,)type'.\n",
      "  _np_quint16 = np.dtype([(\"quint16\", np.uint16, 1)])\n",
      "/usr/local/lib/python3.7/dist-packages/tensorflow/python/framework/dtypes.py:520: FutureWarning: Passing (type, 1) or '1type' as a synonym of type is deprecated; in a future version of numpy, it will be understood as (type, (1,)) / '(1,)type'.\n",
      "  _np_qint32 = np.dtype([(\"qint32\", np.int32, 1)])\n",
      "/usr/local/lib/python3.7/dist-packages/tensorflow/python/framework/dtypes.py:525: FutureWarning: Passing (type, 1) or '1type' as a synonym of type is deprecated; in a future version of numpy, it will be understood as (type, (1,)) / '(1,)type'.\n",
      "  np_resource = np.dtype([(\"resource\", np.ubyte, 1)])\n",
      "/usr/local/lib/python3.7/dist-packages/tensorboard/compat/tensorflow_stub/dtypes.py:541: FutureWarning: Passing (type, 1) or '1type' as a synonym of type is deprecated; in a future version of numpy, it will be understood as (type, (1,)) / '(1,)type'.\n",
      "  _np_qint8 = np.dtype([(\"qint8\", np.int8, 1)])\n",
      "/usr/local/lib/python3.7/dist-packages/tensorboard/compat/tensorflow_stub/dtypes.py:542: FutureWarning: Passing (type, 1) or '1type' as a synonym of type is deprecated; in a future version of numpy, it will be understood as (type, (1,)) / '(1,)type'.\n",
      "  _np_quint8 = np.dtype([(\"quint8\", np.uint8, 1)])\n",
      "/usr/local/lib/python3.7/dist-packages/tensorboard/compat/tensorflow_stub/dtypes.py:543: FutureWarning: Passing (type, 1) or '1type' as a synonym of type is deprecated; in a future version of numpy, it will be understood as (type, (1,)) / '(1,)type'.\n",
      "  _np_qint16 = np.dtype([(\"qint16\", np.int16, 1)])\n",
      "/usr/local/lib/python3.7/dist-packages/tensorboard/compat/tensorflow_stub/dtypes.py:544: FutureWarning: Passing (type, 1) or '1type' as a synonym of type is deprecated; in a future version of numpy, it will be understood as (type, (1,)) / '(1,)type'.\n",
      "  _np_quint16 = np.dtype([(\"quint16\", np.uint16, 1)])\n",
      "/usr/local/lib/python3.7/dist-packages/tensorboard/compat/tensorflow_stub/dtypes.py:545: FutureWarning: Passing (type, 1) or '1type' as a synonym of type is deprecated; in a future version of numpy, it will be understood as (type, (1,)) / '(1,)type'.\n",
      "  _np_qint32 = np.dtype([(\"qint32\", np.int32, 1)])\n",
      "/usr/local/lib/python3.7/dist-packages/tensorboard/compat/tensorflow_stub/dtypes.py:550: FutureWarning: Passing (type, 1) or '1type' as a synonym of type is deprecated; in a future version of numpy, it will be understood as (type, (1,)) / '(1,)type'.\n",
      "  np_resource = np.dtype([(\"resource\", np.ubyte, 1)])\n",
      "21/07/22 08:12:42 WARN NativeCodeLoader: Unable to load native-hadoop library for your platform... using builtin-java classes where applicable\n",
      "Using Spark's default log4j profile: org/apache/spark/log4j-defaults.properties\n",
      "Setting default log level to \"WARN\".\n",
      "To adjust logging level use sc.setLogLevel(newLevel). For SparkR, use setLogLevel(newLevel).\n"
     ]
    }
   ],
   "source": [
    "import yan_time_series_forecasting"
   ]
  },
  {
   "cell_type": "markdown",
   "id": "a715cae4",
   "metadata": {},
   "source": [
    "### load the data and transform to deep learning model input"
   ]
  },
  {
   "cell_type": "code",
   "execution_count": 2,
   "id": "4d4f735c",
   "metadata": {},
   "outputs": [
    {
     "name": "stderr",
     "output_type": "stream",
     "text": [
      "21/07/22 08:12:58 WARN WindowExec: No Partition Defined for Window operation! Moving all data to a single partition, this can cause serious performance degradation.\n",
      "21/07/22 08:12:58 WARN WindowExec: No Partition Defined for Window operation! Moving all data to a single partition, this can cause serious performance degradation.\n",
      "21/07/22 08:12:58 WARN WindowExec: No Partition Defined for Window operation! Moving all data to a single partition, this can cause serious performance degradation.\n",
      "21/07/22 08:12:58 WARN WindowExec: No Partition Defined for Window operation! Moving all data to a single partition, this can cause serious performance degradation.\n",
      "21/07/22 08:12:58 WARN WindowExec: No Partition Defined for Window operation! Moving all data to a single partition, this can cause serious performance degradation.\n",
      "21/07/22 08:12:58 WARN WindowExec: No Partition Defined for Window operation! Moving all data to a single partition, this can cause serious performance degradation.\n",
      "21/07/22 08:12:58 WARN WindowExec: No Partition Defined for Window operation! Moving all data to a single partition, this can cause serious performance degradation.\n",
      "21/07/22 08:12:58 WARN WindowExec: No Partition Defined for Window operation! Moving all data to a single partition, this can cause serious performance degradation.\n",
      "21/07/22 08:12:58 WARN WindowExec: No Partition Defined for Window operation! Moving all data to a single partition, this can cause serious performance degradation.\n",
      "21/07/22 08:12:58 WARN WindowExec: No Partition Defined for Window operation! Moving all data to a single partition, this can cause serious performance degradation.\n",
      "21/07/22 08:12:58 WARN WindowExec: No Partition Defined for Window operation! Moving all data to a single partition, this can cause serious performance degradation.\n",
      "21/07/22 08:12:58 WARN WindowExec: No Partition Defined for Window operation! Moving all data to a single partition, this can cause serious performance degradation.\n",
      "21/07/22 08:12:58 WARN WindowExec: No Partition Defined for Window operation! Moving all data to a single partition, this can cause serious performance degradation.\n",
      "21/07/22 08:12:58 WARN WindowExec: No Partition Defined for Window operation! Moving all data to a single partition, this can cause serious performance degradation.\n",
      "21/07/22 08:12:58 WARN WindowExec: No Partition Defined for Window operation! Moving all data to a single partition, this can cause serious performance degradation.\n",
      "21/07/22 08:12:58 WARN WindowExec: No Partition Defined for Window operation! Moving all data to a single partition, this can cause serious performance degradation.\n",
      "21/07/22 08:12:58 WARN WindowExec: No Partition Defined for Window operation! Moving all data to a single partition, this can cause serious performance degradation.\n",
      "21/07/22 08:12:58 WARN WindowExec: No Partition Defined for Window operation! Moving all data to a single partition, this can cause serious performance degradation.\n",
      "21/07/22 08:12:58 WARN WindowExec: No Partition Defined for Window operation! Moving all data to a single partition, this can cause serious performance degradation.\n",
      "21/07/22 08:12:58 WARN WindowExec: No Partition Defined for Window operation! Moving all data to a single partition, this can cause serious performance degradation.\n",
      "21/07/22 08:12:58 WARN WindowExec: No Partition Defined for Window operation! Moving all data to a single partition, this can cause serious performance degradation.\n",
      "21/07/22 08:12:58 WARN WindowExec: No Partition Defined for Window operation! Moving all data to a single partition, this can cause serious performance degradation.\n",
      "21/07/22 08:12:58 WARN WindowExec: No Partition Defined for Window operation! Moving all data to a single partition, this can cause serious performance degradation.\n",
      "21/07/22 08:12:58 WARN WindowExec: No Partition Defined for Window operation! Moving all data to a single partition, this can cause serious performance degradation.\n",
      "21/07/22 08:12:58 WARN WindowExec: No Partition Defined for Window operation! Moving all data to a single partition, this can cause serious performance degradation.\n",
      "21/07/22 08:12:58 WARN WindowExec: No Partition Defined for Window operation! Moving all data to a single partition, this can cause serious performance degradation.\n",
      "21/07/22 08:12:58 WARN WindowExec: No Partition Defined for Window operation! Moving all data to a single partition, this can cause serious performance degradation.\n",
      "21/07/22 08:12:58 WARN WindowExec: No Partition Defined for Window operation! Moving all data to a single partition, this can cause serious performance degradation.\n",
      "21/07/22 08:12:58 WARN WindowExec: No Partition Defined for Window operation! Moving all data to a single partition, this can cause serious performance degradation.\n",
      "21/07/22 08:12:58 WARN WindowExec: No Partition Defined for Window operation! Moving all data to a single partition, this can cause serious performance degradation.\n",
      "21/07/22 08:12:58 WARN WindowExec: No Partition Defined for Window operation! Moving all data to a single partition, this can cause serious performance degradation.\n",
      "21/07/22 08:12:59 WARN package: Truncated the string representation of a plan since it was too large. This behavior can be adjusted by setting 'spark.sql.debug.maxToStringFields'.\n",
      "                                                                                \r"
     ]
    }
   ],
   "source": [
    "input_csv = 'QQQ.csv'\n",
    "date_column_name = 'Date'\n",
    "value_column_name = 'Close'\n",
    "sliding_window_size = 30\n",
    "\n",
    "date, y, x = yan_time_series_forecasting.time_series2feature_label_array(\n",
    "\tinput_csv,\n",
    "\tdate_column_name,\n",
    "\tvalue_column_name,\n",
    "\tx_npy = 'x.npy',\n",
    "\ty_npy = 'y.npy',\n",
    "\tdate_npy = 'date.npy',\n",
    "\t)"
   ]
  },
  {
   "cell_type": "code",
   "execution_count": 3,
   "id": "9dd940c5",
   "metadata": {},
   "outputs": [
    {
     "name": "stdout",
     "output_type": "stream",
     "text": [
      "(5596, 30)\n",
      "(5596, 1)\n"
     ]
    }
   ],
   "source": [
    "print(x.shape)\n",
    "print(y.shape)"
   ]
  },
  {
   "cell_type": "markdown",
   "id": "397b9813",
   "metadata": {},
   "source": [
    "### train the model and save it"
   ]
  },
  {
   "cell_type": "code",
   "execution_count": 4,
   "id": "7f01f749",
   "metadata": {},
   "outputs": [
    {
     "name": "stdout",
     "output_type": "stream",
     "text": [
      "WARNING:tensorflow:From /usr/local/lib/python3.7/dist-packages/keras/backend/tensorflow_backend.py:74: The name tf.get_default_graph is deprecated. Please use tf.compat.v1.get_default_graph instead.\n",
      "\n",
      "WARNING:tensorflow:From /usr/local/lib/python3.7/dist-packages/keras/backend/tensorflow_backend.py:517: The name tf.placeholder is deprecated. Please use tf.compat.v1.placeholder instead.\n",
      "\n",
      "WARNING:tensorflow:From /usr/local/lib/python3.7/dist-packages/keras/backend/tensorflow_backend.py:4138: The name tf.random_uniform is deprecated. Please use tf.random.uniform instead.\n",
      "\n",
      "WARNING:tensorflow:From /usr/local/lib/python3.7/dist-packages/keras/backend/tensorflow_backend.py:133: The name tf.placeholder_with_default is deprecated. Please use tf.compat.v1.placeholder_with_default instead.\n",
      "\n",
      "WARNING:tensorflow:From /usr/local/lib/python3.7/dist-packages/keras/backend/tensorflow_backend.py:3445: calling dropout (from tensorflow.python.ops.nn_ops) with keep_prob is deprecated and will be removed in a future version.\n",
      "Instructions for updating:\n",
      "Please use `rate` instead of `keep_prob`. Rate should be set to `rate = 1 - keep_prob`.\n",
      "_________________________________________________________________\n",
      "Layer (type)                 Output Shape              Param #   \n",
      "=================================================================\n",
      "dense_1 (Dense)              (None, 1000)              31000     \n",
      "_________________________________________________________________\n",
      "dense_2 (Dense)              (None, 500)               500500    \n",
      "_________________________________________________________________\n",
      "dropout_1 (Dropout)          (None, 500)               0         \n",
      "_________________________________________________________________\n",
      "dense_3 (Dense)              (None, 200)               100200    \n",
      "_________________________________________________________________\n",
      "dropout_2 (Dropout)          (None, 200)               0         \n",
      "_________________________________________________________________\n",
      "dense_4 (Dense)              (None, 1)                 201       \n",
      "=================================================================\n",
      "Total params: 631,901\n",
      "Trainable params: 631,901\n",
      "Non-trainable params: 0\n",
      "_________________________________________________________________\n",
      "WARNING:tensorflow:From /usr/local/lib/python3.7/dist-packages/keras/optimizers.py:790: The name tf.train.Optimizer is deprecated. Please use tf.compat.v1.train.Optimizer instead.\n",
      "\n",
      "WARNING:tensorflow:From /usr/local/lib/python3.7/dist-packages/keras/backend/tensorflow_backend.py:174: The name tf.get_default_session is deprecated. Please use tf.compat.v1.get_default_session instead.\n",
      "\n"
     ]
    },
    {
     "name": "stderr",
     "output_type": "stream",
     "text": [
      "2021-07-22 08:13:19.109531: I tensorflow/core/platform/cpu_feature_guard.cc:142] Your CPU supports instructions that this TensorFlow binary was not compiled to use: AVX2 FMA\n",
      "2021-07-22 08:13:19.115195: I tensorflow/core/platform/profile_utils/cpu_utils.cc:94] CPU Frequency: 2899885000 Hz\n",
      "2021-07-22 08:13:19.116152: I tensorflow/compiler/xla/service/service.cc:168] XLA service 0x4462c70 executing computations on platform Host. Devices:\n",
      "2021-07-22 08:13:19.116196: I tensorflow/compiler/xla/service/service.cc:175]   StreamExecutor device (0): <undefined>, <undefined>\n",
      "2021-07-22 08:13:19.178345: W tensorflow/compiler/jit/mark_for_compilation_pass.cc:1412] (One-time warning): Not using XLA:CPU for cluster because envvar TF_XLA_FLAGS=--tf_xla_cpu_global_jit was not set.  If you want XLA:CPU, either set that envvar, or use experimental_jit_scope to enable XLA:CPU.  To confirm that XLA is active, pass --vmodule=xla_compilation_cache=1 (as a proper command-line flag, not via TF_XLA_FLAGS) or set the envvar XLA_FLAGS=--xla_hlo_profile.\n"
     ]
    },
    {
     "name": "stdout",
     "output_type": "stream",
     "text": [
      "Epoch 1/100\n",
      "5596/5596 [==============================] - 1s 106us/step - loss: 1830.3636\n",
      "Epoch 2/100\n",
      "5596/5596 [==============================] - 0s 61us/step - loss: 114.7479\n",
      "Epoch 3/100\n",
      "5596/5596 [==============================] - 0s 56us/step - loss: 48.0846\n",
      "Epoch 4/100\n",
      "5596/5596 [==============================] - 0s 55us/step - loss: 42.2990\n",
      "Epoch 5/100\n",
      "5596/5596 [==============================] - 0s 57us/step - loss: 33.8183\n",
      "Epoch 6/100\n",
      "5596/5596 [==============================] - 0s 53us/step - loss: 32.1494\n",
      "Epoch 7/100\n",
      "5596/5596 [==============================] - 0s 50us/step - loss: 33.0950\n",
      "Epoch 8/100\n",
      "5596/5596 [==============================] - 0s 50us/step - loss: 25.6055\n",
      "Epoch 9/100\n",
      "5596/5596 [==============================] - 0s 48us/step - loss: 26.1715\n",
      "Epoch 10/100\n",
      "5596/5596 [==============================] - 0s 50us/step - loss: 23.5187\n",
      "Epoch 11/100\n",
      "5596/5596 [==============================] - 0s 53us/step - loss: 22.8238\n",
      "Epoch 12/100\n",
      "5596/5596 [==============================] - 0s 51us/step - loss: 20.7308\n",
      "Epoch 13/100\n",
      "5596/5596 [==============================] - 0s 56us/step - loss: 19.2141\n",
      "Epoch 14/100\n",
      "5596/5596 [==============================] - 0s 51us/step - loss: 21.6018\n",
      "Epoch 15/100\n",
      "5596/5596 [==============================] - 0s 49us/step - loss: 20.0672\n",
      "Epoch 16/100\n",
      "5596/5596 [==============================] - 0s 50us/step - loss: 19.9494\n",
      "Epoch 17/100\n",
      "5596/5596 [==============================] - 0s 49us/step - loss: 16.6841\n",
      "Epoch 18/100\n",
      "5596/5596 [==============================] - 0s 54us/step - loss: 17.3703\n",
      "Epoch 19/100\n",
      "5596/5596 [==============================] - 0s 65us/step - loss: 22.6087\n",
      "Epoch 20/100\n",
      "5596/5596 [==============================] - 0s 50us/step - loss: 19.3814\n",
      "Epoch 21/100\n",
      "5596/5596 [==============================] - 0s 51us/step - loss: 15.9930\n",
      "Epoch 22/100\n",
      "5596/5596 [==============================] - 0s 46us/step - loss: 16.5640\n",
      "Epoch 23/100\n",
      "5596/5596 [==============================] - 0s 51us/step - loss: 13.9194\n",
      "Epoch 24/100\n",
      "5596/5596 [==============================] - 0s 58us/step - loss: 16.2362\n",
      "Epoch 25/100\n",
      "5596/5596 [==============================] - 0s 51us/step - loss: 16.7696\n",
      "Epoch 26/100\n",
      "5596/5596 [==============================] - 0s 51us/step - loss: 13.8631\n",
      "Epoch 27/100\n",
      "5596/5596 [==============================] - 0s 52us/step - loss: 14.2387\n",
      "Epoch 28/100\n",
      "5596/5596 [==============================] - 0s 55us/step - loss: 15.8725\n",
      "Epoch 29/100\n",
      "5596/5596 [==============================] - 0s 51us/step - loss: 18.4749\n",
      "Epoch 30/100\n",
      "5596/5596 [==============================] - 0s 48us/step - loss: 14.1193\n",
      "Epoch 31/100\n",
      "5596/5596 [==============================] - 0s 57us/step - loss: 16.4095\n",
      "Epoch 32/100\n",
      "5596/5596 [==============================] - 0s 50us/step - loss: 19.5161\n",
      "Epoch 33/100\n",
      "5596/5596 [==============================] - 0s 53us/step - loss: 14.9130\n",
      "Epoch 34/100\n",
      "5596/5596 [==============================] - 0s 51us/step - loss: 12.9328\n",
      "Epoch 35/100\n",
      "5596/5596 [==============================] - 0s 57us/step - loss: 18.6989\n",
      "Epoch 36/100\n",
      "5596/5596 [==============================] - 0s 59us/step - loss: 23.9756\n",
      "Epoch 37/100\n",
      "5596/5596 [==============================] - 0s 65us/step - loss: 26.4564\n",
      "Epoch 38/100\n",
      "5596/5596 [==============================] - 0s 64us/step - loss: 13.9038\n",
      "Epoch 39/100\n",
      "5596/5596 [==============================] - 0s 60us/step - loss: 14.5113\n",
      "Epoch 40/100\n",
      "5596/5596 [==============================] - 0s 53us/step - loss: 14.1445\n",
      "Epoch 41/100\n",
      "5596/5596 [==============================] - 0s 52us/step - loss: 14.8628\n",
      "Epoch 42/100\n",
      "5596/5596 [==============================] - 0s 62us/step - loss: 22.2765\n",
      "Epoch 43/100\n",
      "5596/5596 [==============================] - 0s 51us/step - loss: 16.1625\n",
      "Epoch 44/100\n",
      "5596/5596 [==============================] - 0s 54us/step - loss: 11.7379\n",
      "Epoch 45/100\n",
      "5596/5596 [==============================] - 0s 50us/step - loss: 10.4965\n",
      "Epoch 46/100\n",
      "5596/5596 [==============================] - 0s 50us/step - loss: 12.2558\n",
      "Epoch 47/100\n",
      "5596/5596 [==============================] - 0s 54us/step - loss: 11.3077\n",
      "Epoch 48/100\n",
      "5596/5596 [==============================] - 0s 52us/step - loss: 10.8701\n",
      "Epoch 49/100\n",
      "5596/5596 [==============================] - 0s 68us/step - loss: 13.9713\n",
      "Epoch 50/100\n",
      "5596/5596 [==============================] - 0s 54us/step - loss: 12.4871\n",
      "Epoch 51/100\n",
      "5596/5596 [==============================] - 0s 51us/step - loss: 10.8803\n",
      "Epoch 52/100\n",
      "5596/5596 [==============================] - 0s 65us/step - loss: 10.5306\n",
      "Epoch 53/100\n",
      "5596/5596 [==============================] - 0s 59us/step - loss: 11.2529\n",
      "Epoch 54/100\n",
      "5596/5596 [==============================] - 0s 53us/step - loss: 17.9036\n",
      "Epoch 55/100\n",
      "5596/5596 [==============================] - 0s 51us/step - loss: 11.0297\n",
      "Epoch 56/100\n",
      "5596/5596 [==============================] - 0s 51us/step - loss: 14.7825\n",
      "Epoch 57/100\n",
      "5596/5596 [==============================] - 0s 47us/step - loss: 17.9238\n",
      "Epoch 58/100\n",
      "5596/5596 [==============================] - 0s 55us/step - loss: 14.9160\n",
      "Epoch 59/100\n",
      "5596/5596 [==============================] - 0s 54us/step - loss: 10.1550\n",
      "Epoch 60/100\n",
      "5596/5596 [==============================] - 0s 51us/step - loss: 9.7970\n",
      "Epoch 61/100\n",
      "5596/5596 [==============================] - 0s 54us/step - loss: 10.7755\n",
      "Epoch 62/100\n",
      "5596/5596 [==============================] - 0s 54us/step - loss: 10.5595\n",
      "Epoch 63/100\n",
      "5596/5596 [==============================] - 0s 55us/step - loss: 16.3670\n",
      "Epoch 64/100\n",
      "5596/5596 [==============================] - 0s 57us/step - loss: 14.0255\n",
      "Epoch 65/100\n",
      "5596/5596 [==============================] - 0s 53us/step - loss: 10.2373\n",
      "Epoch 66/100\n",
      "5596/5596 [==============================] - 0s 59us/step - loss: 9.8834\n",
      "Epoch 67/100\n",
      "5596/5596 [==============================] - 0s 58us/step - loss: 8.6788\n",
      "Epoch 68/100\n",
      "5596/5596 [==============================] - 0s 50us/step - loss: 9.0418\n",
      "Epoch 69/100\n",
      "5596/5596 [==============================] - 0s 51us/step - loss: 9.8823\n",
      "Epoch 70/100\n",
      "5596/5596 [==============================] - 0s 55us/step - loss: 10.5715\n",
      "Epoch 71/100\n",
      "5596/5596 [==============================] - 0s 54us/step - loss: 9.3592\n",
      "Epoch 72/100\n",
      "5596/5596 [==============================] - 0s 58us/step - loss: 11.1586\n",
      "Epoch 73/100\n",
      "5596/5596 [==============================] - 0s 57us/step - loss: 12.8005\n",
      "Epoch 74/100\n",
      "5596/5596 [==============================] - 0s 52us/step - loss: 17.8866\n",
      "Epoch 75/100\n",
      "5596/5596 [==============================] - 0s 50us/step - loss: 16.7655\n",
      "Epoch 76/100\n",
      "5596/5596 [==============================] - 0s 51us/step - loss: 13.0094\n",
      "Epoch 77/100\n",
      "5596/5596 [==============================] - 0s 49us/step - loss: 14.7256\n",
      "Epoch 78/100\n",
      "5596/5596 [==============================] - 0s 47us/step - loss: 10.2304\n",
      "Epoch 79/100\n",
      "5596/5596 [==============================] - 0s 49us/step - loss: 16.0345\n",
      "Epoch 80/100\n",
      "5596/5596 [==============================] - 0s 55us/step - loss: 9.1868\n",
      "Epoch 81/100\n",
      "5596/5596 [==============================] - 0s 58us/step - loss: 10.7179\n",
      "Epoch 82/100\n",
      "5596/5596 [==============================] - 0s 56us/step - loss: 9.3884\n",
      "Epoch 83/100\n",
      "5596/5596 [==============================] - 0s 56us/step - loss: 8.6988\n",
      "Epoch 84/100\n",
      "5596/5596 [==============================] - 0s 56us/step - loss: 10.2870\n",
      "Epoch 85/100\n",
      "5596/5596 [==============================] - 0s 50us/step - loss: 10.3958\n",
      "Epoch 86/100\n",
      "5596/5596 [==============================] - 0s 52us/step - loss: 9.4738\n",
      "Epoch 87/100\n",
      "5596/5596 [==============================] - 0s 57us/step - loss: 13.2796\n",
      "Epoch 88/100\n",
      "5596/5596 [==============================] - 0s 52us/step - loss: 20.8876\n",
      "Epoch 89/100\n",
      "5596/5596 [==============================] - 0s 50us/step - loss: 19.8040\n",
      "Epoch 90/100\n",
      "5596/5596 [==============================] - 0s 58us/step - loss: 15.2711\n",
      "Epoch 91/100\n",
      "5596/5596 [==============================] - 0s 56us/step - loss: 8.8163\n",
      "Epoch 92/100\n",
      "5596/5596 [==============================] - 0s 69us/step - loss: 11.2822\n",
      "Epoch 93/100\n",
      "5596/5596 [==============================] - 0s 55us/step - loss: 11.5113\n",
      "Epoch 94/100\n",
      "5596/5596 [==============================] - 0s 60us/step - loss: 14.8400\n",
      "Epoch 95/100\n"
     ]
    },
    {
     "name": "stdout",
     "output_type": "stream",
     "text": [
      "5596/5596 [==============================] - 0s 54us/step - loss: 9.3007\n",
      "Epoch 96/100\n",
      "5596/5596 [==============================] - 0s 56us/step - loss: 10.2506\n",
      "Epoch 97/100\n",
      "5596/5596 [==============================] - 0s 54us/step - loss: 8.8941\n",
      "Epoch 98/100\n",
      "5596/5596 [==============================] - 0s 54us/step - loss: 9.1947\n",
      "Epoch 99/100\n",
      "5596/5596 [==============================] - 0s 53us/step - loss: 12.4441\n",
      "Epoch 100/100\n",
      "5596/5596 [==============================] - 0s 63us/step - loss: 10.8973\n"
     ]
    }
   ],
   "source": [
    "time_series_model = yan_time_series_forecasting.training_time_series_model(\n",
    "\tx, y, \n",
    "\tmodel_path = 'time_series.h5',\n",
    "\t)"
   ]
  },
  {
   "cell_type": "markdown",
   "id": "1d958b50",
   "metadata": {},
   "source": [
    "### predict the hisotrical values"
   ]
  },
  {
   "cell_type": "code",
   "execution_count": 22,
   "id": "0a20fe12",
   "metadata": {},
   "outputs": [],
   "source": [
    "prediction = yan_time_series_forecasting.predict_time_series_from_model(\n",
    "\tx_npy = 'x.npy', \n",
    "\ty_npy = 'y.npy', \n",
    "\tdate_npy = 'date.npy',\n",
    "\tmodel_path = 'time_series.h5',\n",
    "\toutput_prediction_json = 'prediction.json',\n",
    "\t)"
   ]
  },
  {
   "cell_type": "markdown",
   "id": "520375bb",
   "metadata": {},
   "source": [
    "#### show the results"
   ]
  },
  {
   "cell_type": "code",
   "execution_count": 24,
   "id": "e3b2b023",
   "metadata": {},
   "outputs": [
    {
     "data": {
      "text/plain": [
       "<AxesSubplot:xlabel='date'>"
      ]
     },
     "execution_count": 24,
     "metadata": {},
     "output_type": "execute_result"
    },
    {
     "data": {
      "image/png": "[encoded data removed]",
      "text/plain": [
       "<Figure size 432x288 with 1 Axes>"
      ]
     },
     "metadata": {
      "needs_background": "light"
     },
     "output_type": "display_data"
    }
   ],
   "source": [
    "import pandas\n",
    "import datetime\n",
    "import matplotlib\n",
    "\n",
    "prediction = pandas.read_json(\n",
    "\t'prediction.json',\n",
    "\torient = 'records',\n",
    "\tlines = True,\n",
    "\t)\n",
    "prediction = prediction.set_index('date')\n",
    "\n",
    "prediction.plot()"
   ]
  }
 ],
 "metadata": {
  "kernelspec": {
   "display_name": "Python 3 (ipykernel)",
   "language": "python",
   "name": "python3"
  },
  "language_info": {
   "codemirror_mode": {
    "name": "ipython",
    "version": 3
   },
   "file_extension": ".py",
   "mimetype": "text/x-python",
   "name": "python",
   "nbconvert_exporter": "python",
   "pygments_lexer": "ipython3",
   "version": "3.7.3"
  }
 },
 "nbformat": 4,
 "nbformat_minor": 5
}
